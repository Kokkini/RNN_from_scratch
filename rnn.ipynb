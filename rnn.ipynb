{
 "cells": [
  {
   "cell_type": "code",
   "execution_count": 2,
   "metadata": {
    "collapsed": true
   },
   "outputs": [],
   "source": [
    "import numpy as np"
   ]
  },
  {
   "cell_type": "code",
   "execution_count": 6,
   "metadata": {},
   "outputs": [],
   "source": [
    "def relu(x):\n",
    "    return x*(x>0)"
   ]
  },
  {
   "cell_type": "code",
   "execution_count": null,
   "metadata": {
    "collapsed": true
   },
   "outputs": [],
   "source": [
    "class rnn:\n",
    "    def __init__(self, n_units, X_length, y_length):\n",
    "        self.n_units = n_units\n",
    "        self.Wx = np.random.normal(scale=1/np.sqrt(X_length*n_units),size=[X_length,n_units])\n",
    "        self.Wh = np.random.normal(scale=1/n_units,size=[n_units,n_units])\n",
    "        self.Wo = np.random.normal(scale=1/np.sqrt(n_units*y_length),size=[n_units,y_length])\n",
    "        self.bxh = np.zeros(shape=[1,n_units])\n",
    "        self.bo = np.zeros(shape=[1,y_length])\n",
    "    \n",
    "    def predict(self, X_seq): #X_seq.shape = [seq_length,?,X_length]\n",
    "        output_seq = []\n",
    "        h_seq = [np.zeros(shape=[X_seq.shape[1],self.n_units])] # len(h_seq) will be 1 bigger than output_seq\n",
    "        seq_length = len(X)\n",
    "        for k in range(seq_length):\n",
    "            s = np.matmul(X_seq[k],self.Wx)+np.matmul(h_seq[-1],self.Wh)+self.bxh\n",
    "            h = relu(s)\n",
    "            o = np.matmul(h,self.Wo)+bo\n",
    "            output_seq.append(o)\n",
    "            h_seq.append(h)\n",
    "        h_seq = h_seq[1:]\n",
    "        h_seq = np.asarray(h_seq)\n",
    "        output_seq = np.asarray(output_seq)\n",
    "        return output_seq, h_seq\n",
    "    \n",
    "    def fit(self, X_seq, y_seq, learning_rate): #X_seq.shape = [seq_length,?,X_length]\n",
    "        seq_length, batch_size, X_length = X_seq.shape\n",
    "        output_seq, h_seq = self.predict(X_seq)\n",
    "        \n",
    "        d_Wx = np.zeros(self.Wx.shape)\n",
    "        d_Wh = np.zeros(self.Wh.shape)\n",
    "        d_Wo = np.zeros(self.Wo.shape)\n",
    "        d_bxh = np.zeros(self.bxh.shape)\n",
    "        d_bo = np.zeros(self.bo.shape)\n",
    "        \n",
    "        d_o = np.zeros([batch_size, self.y_length])\n",
    "        d_h = np.zeros([batch_size, self.n_units])\n",
    "        d_s = np.zeros([batch_size, self.n_units])\n",
    "        \n",
    "        for k in range(seq_length):\n",
    "            d_o = (1/batch_size) * (output_seq[k]-y_seq[k])*output_seq[k]\n",
    "            d_Wo += np.matmul(np.transpose(h_seq[k]),d_o)\n",
    "            d_bo += np.sum(d_o,axis=0)\n",
    "            \n",
    "            d_h = np.matmul(d_o, np.transpose(self.Wo))\n",
    "            for i in range(k):\n",
    "                d_s = d_h*(h_seq[k-i]>0)\n",
    "                d_Wx += np.matmul(np.transpose(X_seq[k-i]),d_s)\n",
    "                d_bxh += np.sum(d_s, axis=0)\n",
    "                d_Wh += np.matmul(np.transpose(h_seq[k-i-1]),d_s)\n",
    "                d_h = np.matmul(d_s,np.transpose(self.Wh))\n",
    "            # the first instance in the seq is dealt with separately because it involves the 0 state\n",
    "            d_s = d_h*(h_seq[0]>0)\n",
    "            d_Wx += np.matmul(np.transpose(X_seq[0]),d_s)\n",
    "            d_bxh += np.sum(d_s,axis=0)\n",
    "        \n",
    "        # update\n",
    "        self.Wx -= learning_rate*d_Wx\n",
    "        self.Wh -= learning_rate*d_Wh\n",
    "        self.Wo -= learning_rate*d_Wo\n",
    "        self.bo -= learning_rate*d_bo\n",
    "        self.bxh -= learning_rate*d_bxh\n",
    "        \n",
    "            "
   ]
  }
 ],
 "metadata": {
  "kernelspec": {
   "display_name": "Python 3",
   "language": "python",
   "name": "python3"
  },
  "language_info": {
   "codemirror_mode": {
    "name": "ipython",
    "version": 3
   },
   "file_extension": ".py",
   "mimetype": "text/x-python",
   "name": "python",
   "nbconvert_exporter": "python",
   "pygments_lexer": "ipython3",
   "version": "3.6.3"
  }
 },
 "nbformat": 4,
 "nbformat_minor": 2
}
